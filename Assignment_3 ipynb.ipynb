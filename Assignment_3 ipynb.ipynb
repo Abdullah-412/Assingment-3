{
  "cells": [
    {
      "cell_type": "markdown",
      "metadata": {
        "id": "5IZa_A6jpMpU"
      },
      "source": [
        "***Encapsulation***"
      ]
    },
    {
      "cell_type": "code",
      "execution_count": null,
      "metadata": {
        "colab": {
          "base_uri": "https://localhost:8080/"
        },
        "id": "7hYB-T2tzc25",
        "outputId": "e22d855a-1756-4cf8-dd49-b63eec019bad"
      },
      "outputs": [
        {
          "name": "stdout",
          "output_type": "stream",
          "text": [
            "Item \"Cucumbers\" added to the order.\n",
            "Item \"Coconut\" added to the order.\n",
            "Item \"Apples\" added to the order.\n",
            "Item \"Bananas\" added to the order.\n",
            "Item \"Cucumbers\" removed from the order.\n",
            "Status updated: shipped\n",
            "Order ID: 89.\n",
            "Items: ['Coconut', 'Apples', 'Bananas'].\n",
            "Status: shipped.\n"
          ]
        }
      ],
      "source": [
        "class OnlineOrder():\n",
        "  def __init__(self, order_id):\n",
        "    self.__order_id = order_id\n",
        "    self.__items = []\n",
        "    self.__status = 'pending'\n",
        "\n",
        "  def add_item(self, item_name):\n",
        "    self.__items.append(item_name)\n",
        "    print(f'Item \"{item_name}\" added to the order.')\n",
        "\n",
        "  def remove_item(self, item_name):\n",
        "    if item_name in self.__items:\n",
        "      self.__items.remove(item_name)\n",
        "      print(f'Item \"{item_name}\" removed from the order.')\n",
        "    else:\n",
        "      print('The Item you are trying to remove is not in the list.')\n",
        "\n",
        "  def update_status (self, status):\n",
        "    if status in ['pending', 'shipped', 'delivered']:\n",
        "      self.__status = status\n",
        "      print(f'Status updated: {self.__status}')\n",
        "    else:\n",
        "      print('Enter a valid status')\n",
        "\n",
        "  def order_summary(self):\n",
        "    print(f'Order ID: {self.__order_id}.')\n",
        "    print(f'Items: {self.__items}.')\n",
        "    print(f'Status: {self.__status}.')\n",
        "\n",
        "order = OnlineOrder(89)\n",
        "\n",
        "order.add_item('Cucumbers')\n",
        "order.add_item('Coconut')\n",
        "order.add_item('Apples')\n",
        "order.add_item('Bananas')\n",
        "\n",
        "order.remove_item('Cucumbers')\n",
        "\n",
        "order.update_status('shipped')\n",
        "\n",
        "order.order_summary()"
      ]
    },
    {
      "cell_type": "markdown",
      "metadata": {
        "id": "9fQuZFtjpbZ_"
      },
      "source": [
        "***Inheritance***"
      ]
    },
    {
      "cell_type": "code",
      "execution_count": null,
      "metadata": {
        "colab": {
          "base_uri": "https://localhost:8080/"
        },
        "id": "7SHaMdDxpbId",
        "outputId": "aeae59fa-883e-4309-9dd9-991ea7dd6300"
      },
      "outputs": [
        {
          "name": "stdout",
          "output_type": "stream",
          "text": [
            "Employee named Ahmed has an ID 725 and receives a salary of PKR 60000.\n",
            "Manager named Abdullah has an ID 12, receives a salary of PKR 120000 and has a work_force of 15 Employees.\n",
            "Developer named Saffan has an ID 10, receives a salary of PKR 200000 and works with Python programming language.\n"
          ]
        }
      ],
      "source": [
        "class Employee():\n",
        "  def __init__ (self, name, id, salary):\n",
        "    self.name = name\n",
        "    self.id = id\n",
        "    self.salary = salary\n",
        "\n",
        "  def Get_Details(self):\n",
        "    print(f'Employee named {self.name} has an ID {self.id} and receives a salary of PKR {self.salary}.')\n",
        "\n",
        "E_1 = Employee('Ahmed', 725, 60000)\n",
        "E_1.Get_Details()\n",
        "\n",
        "class Manager(Employee):\n",
        "  def __init__ (self, name, id, salary, team_size):\n",
        "    super(). __init__ (name, id, salary)\n",
        "    self.team_size = team_size\n",
        "\n",
        "  def Get_Details(self):\n",
        "    print(f'Manager named {self.name} has an ID {self.id}, receives a salary of PKR {self.salary} and has a work_force of {self.team_size} Employees.')\n",
        "\n",
        "M_1 = Manager('Abdullah', 12, 120000, 15)\n",
        "M_1.Get_Details()\n",
        "\n",
        "class Developer(Employee):\n",
        "  def __init__ (self, name, id, salary, programming_language):\n",
        "    super(). __init__ (name, id, salary)\n",
        "    self.programming_language = programming_language\n",
        "\n",
        "  def Get_Details(self):\n",
        "    print(f'Developer named {self.name} has an ID {self.id}, receives a salary of PKR {self.salary} and works with {self.programming_language} programming language.')\n",
        "\n",
        "D_1 = Developer('Saffan', 10, 200000, 'Python')\n",
        "D_1.Get_Details()"
      ]
    },
    {
      "cell_type": "markdown",
      "metadata": {
        "id": "3gTBgRc56I0L"
      },
      "source": [
        "***Polymorphism***"
      ]
    },
    {
      "cell_type": "code",
      "execution_count": null,
      "metadata": {
        "colab": {
          "base_uri": "https://localhost:8080/"
        },
        "id": "Q96KKkO4qKzU",
        "outputId": "921f62ad-091c-4696-a243-a3fca0b1c8a6"
      },
      "outputs": [
        {
          "name": "stdout",
          "output_type": "stream",
          "text": [
            "Sending a message...\n",
            "Sending an Email...\n",
            "Sending an SMS...\n"
          ]
        }
      ],
      "source": [
        "class MessageSender():\n",
        "  def send(self):\n",
        "    print('Sending a message...')\n",
        "\n",
        "class EmailSender(MessageSender):\n",
        "  def send(self):\n",
        "    print('Sending an Email...')\n",
        "\n",
        "class SMSSender(MessageSender):\n",
        "  def send(self):\n",
        "    print('Sending an SMS...')\n",
        "\n",
        "m = MessageSender()\n",
        "e = EmailSender()\n",
        "s = SMSSender()\n",
        "\n",
        "senders = [m, e, s]\n",
        "for send in senders:\n",
        "  send.send()"
      ]
    },
    {
      "cell_type": "markdown",
      "metadata": {
        "id": "Fuai0ld2DmNo"
      },
      "source": [
        "***Abstraction***"
      ]
    },
    {
      "cell_type": "code",
      "execution_count": null,
      "metadata": {
        "colab": {
          "base_uri": "https://localhost:8080/"
        },
        "id": "8Q6ZtLwSDrXZ",
        "outputId": "6c7a98be-ee0d-499a-96e6-16d4fdf25e02"
      },
      "outputs": [
        {
          "name": "stdout",
          "output_type": "stream",
          "text": [
            "The clothes are being washed.\n",
            "The Washing machine has been turned off.\n",
            "The food is being heated.\n",
            "The Microwave has been turned off.\n"
          ]
        }
      ],
      "source": [
        "from abc import ABC, abstractmethod\n",
        "class Appliance(ABC):\n",
        "  @abstractmethod\n",
        "  def turn_on(self):\n",
        "    pass\n",
        "  @abstractmethod\n",
        "  def turn_off(self):\n",
        "    pass\n",
        "\n",
        "class WashingMachine(Appliance):\n",
        "  def turn_on(self):\n",
        "    print('The clothes are being washed.')\n",
        "  def turn_off(self):\n",
        "    print('The Washing machine has been turned off.')\n",
        "\n",
        "class Microwave(Appliance):\n",
        "  def turn_on (self):\n",
        "    print('The food is being heated.')\n",
        "  def turn_off(self):\n",
        "    print('The Microwave has been turned off.')\n",
        "\n",
        "\n",
        "wm = WashingMachine()\n",
        "mw = Microwave()\n",
        "\n",
        "wm.turn_on()\n",
        "wm.turn_off()\n",
        "\n",
        "mw.turn_on()\n",
        "mw.turn_off()"
      ]
    },
    {
      "cell_type": "markdown",
      "metadata": {
        "id": "lUMZ0tZ6IeZ-"
      },
      "source": [
        "***All Pillars Combined***"
      ]
    },
    {
      "cell_type": "code",
      "execution_count": 1,
      "metadata": {
        "colab": {
          "base_uri": "https://localhost:8080/"
        },
        "id": "KtdG5IoWKF5C",
        "outputId": "f67a36f3-ac3a-4c3b-876f-339928bc82d7"
      },
      "outputs": [
        {
          "name": "stdout",
          "output_type": "stream",
          "text": [
            "Name: Abdullah\n",
            "Role: Student\n",
            "Roll no: 42\n",
            "Grade: 10\n",
            "\n",
            "\n",
            "Name: Sir Nawaz\n",
            "Role: Instructor\n",
            "Subject: P.ST\n",
            "\n",
            "--- Portal Access ---\n",
            "Open Notes.\n",
            "Open Assigments.\n",
            "Open Timetable.\n",
            "\n",
            "--- Portal Access ---\n",
            "Open Submissions.\n",
            "Open Students Attendance.\n",
            "Open Timetable.\n",
            "\n",
            "--- Course Material ---\n",
            "Playing video lecture: Geography...\n",
            "Opening PDF: Agriculture Notes...\n"
          ]
        }
      ],
      "source": [
        "class User():\n",
        "  def __init__(self, name, role):\n",
        "    self.__name = name\n",
        "    self.set_role(role)\n",
        "\n",
        "  def get_info(self):\n",
        "    print(f'Name: {self.__name}')\n",
        "    print(f'Role: {self.__role}')\n",
        "\n",
        "  def set_name(self, name):\n",
        "    self.__name = name\n",
        "\n",
        "  def set_role(self, role):\n",
        "    if role in ['Student', 'Instructor']:\n",
        "      self.__role = role\n",
        "    else:\n",
        "      print('Invalid role. Must be \"Student\" or \"Instructor\".')\n",
        "\n",
        "class Student(User):\n",
        "  def __init__(self, name, role, roll_no, grade):\n",
        "    super().__init__(name, role)\n",
        "    self.roll_no = roll_no\n",
        "    self.grade = grade\n",
        "\n",
        "  def get_info(self):\n",
        "    super().get_info()\n",
        "    print(f'Roll no: {self.roll_no}')\n",
        "    print(f'Grade: {self.grade}')\n",
        "\n",
        "  def access_portal(self):\n",
        "    print('Open Notes.')\n",
        "    print('Open Assigments.')\n",
        "    print('Open Timetable.')\n",
        "\n",
        "\n",
        "class Instructor(User):\n",
        "  def __init__(self, name, role, subject):\n",
        "    super().__init__(name, role)\n",
        "    self.subject = subject\n",
        "\n",
        "  def get_info(self):\n",
        "    super().get_info()\n",
        "    print(f'Subject: {self.subject}')\n",
        "\n",
        "  def access_portal(self):\n",
        "    print('Open Submissions.')\n",
        "    print('Open Students Attendance.')\n",
        "    print('Open Timetable.')\n",
        "\n",
        "\n",
        "from abc import ABC, abstractmethod\n",
        "class CourseMaterial(ABC):\n",
        "  @abstractmethod\n",
        "  def display(self):\n",
        "    pass\n",
        "\n",
        "class VideoLecture(CourseMaterial):\n",
        "  def __init__ (self, topic):\n",
        "    self.topic = topic\n",
        "\n",
        "  def display(self):\n",
        "      print(f'Playing video lecture: {self.topic}...')\n",
        "\n",
        "class PDFs(CourseMaterial):\n",
        "  def __init__ (self, topic):\n",
        "    self.topic = topic\n",
        "\n",
        "  def display(self):\n",
        "      print(f'Opening PDF: {self.topic}...')\n",
        "\n",
        "\n",
        "\n",
        "u1 = Student('Abdullah', 'Student', 42, 10)\n",
        "u1.get_info()\n",
        "print('\\n')\n",
        "u2 = Instructor('Sir Nawaz', 'Instructor', 'P.ST')\n",
        "u2.get_info()\n",
        "\n",
        "for user in [u1, u2]:\n",
        "  print(\"\\n--- Portal Access ---\")\n",
        "  user.access_portal()\n",
        "\n",
        "print(\"\\n--- Course Material ---\")\n",
        "materials = [VideoLecture(\"Geography\"), PDFs(\"Agriculture Notes\")]\n",
        "for material in materials:\n",
        "  material.display()"
      ]
    },
    {
      "cell_type": "code",
      "execution_count": null,
      "metadata": {},
      "outputs": [],
      "source": []
    }
  ],
  "metadata": {
    "colab": {
      "provenance": []
    },
    "kernelspec": {
      "display_name": "Python 3",
      "name": "python3"
    },
    "language_info": {
      "codemirror_mode": {
        "name": "ipython",
        "version": 3
      },
      "file_extension": ".py",
      "mimetype": "text/x-python",
      "name": "python",
      "nbconvert_exporter": "python",
      "pygments_lexer": "ipython3",
      "version": "3.13.5"
    }
  },
  "nbformat": 4,
  "nbformat_minor": 0
}
